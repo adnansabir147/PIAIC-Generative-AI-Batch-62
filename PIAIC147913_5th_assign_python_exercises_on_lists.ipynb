{
 "cells": [
  {
   "cell_type": "code",
   "execution_count": null,
   "metadata": {},
   "outputs": [],
   "source": [
    "# Exercise 3-1: Names\n",
    "# Task: Store the names of a few of your friends in a list called names. Print each person’s name by accessing each element in the list, one at a time.\n",
    "names = [\"Alice\", \"Bob\", \"Charlie\", \"David\"]\n",
    "print(names[0])\n",
    "print(names[1])\n",
    "print(names[2])\n",
    "print(names[3])"
   ]
  },
  {
   "cell_type": "code",
   "execution_count": null,
   "metadata": {},
   "outputs": [],
   "source": [
    "# Exercise 3-2: Greetings\n",
    "# Task: Start with the list you used in Exercise 3-1. Instead of just printing each person’s name, print a message to them. The text of each message should be the same, but each message should be personalized with the person’s name.\n",
    "greeting = \"Hello\"\n",
    "print(f\"{greeting}, {names[0]}!\")\n",
    "print(f\"{greeting}, {names[1]}!\")\n",
    "print(f\"{greeting}, {names[2]}!\")\n",
    "print(f\"{greeting}, {names[3]}!\")\n"
   ]
  },
  {
   "cell_type": "code",
   "execution_count": null,
   "metadata": {},
   "outputs": [],
   "source": [
    "# Exercise 3-3: Your Own List\n",
    "# Task: Think of your favorite mode of transportation, such as a motorcycle or a car, and make a list that stores several examples. Use your list to print a series of statements about these items, such as \"I would like to own a Honda motorcycle.\"\n",
    "modes_of_transport = [\"car\", \"bicycle\", \"motorcycle\"]\n",
    "print(f\"I would like to own a Tesla {modes_of_transport[0]}.\")\n",
    "print(f\"I enjoy riding my {modes_of_transport[1]}.\")\n",
    "print(f\"I would love to try a Harley-Davidson {modes_of_transport[2]}.\")\n"
   ]
  },
  {
   "cell_type": "code",
   "execution_count": null,
   "metadata": {},
   "outputs": [],
   "source": [
    "# Exercise 3-4: Guest List\n",
    "# Task: If you could invite anyone, living or deceased, to dinner, who would you invite? Make a list that includes at least three people you’d like to invite to dinner. Then use your list to print a message to each person, inviting them to dinner.\n",
    "guest_list = [\"Albert Einstein\", \"Marie Curie\", \"Isaac Newton\"]\n",
    "print(f\"Dear {guest_list[0]}, you are invited to dinner.\")\n",
    "print(f\"Dear {guest_list[1]}, you are invited to dinner.\")\n",
    "print(f\"Dear {guest_list[2]}, you are invited to dinner.\")\n"
   ]
  },
  {
   "cell_type": "code",
   "execution_count": null,
   "metadata": {},
   "outputs": [],
   "source": [
    "# Exercise 3-5: Changing Guest List\n",
    "# Task: Start with your program from Exercise 3-4. Add a print() call at the end of your program, stating the name of the guest who can’t make it. Modify your list, replacing the name of the guest who can’t make it with the name of the new person you are inviting. Print a second set of invitation messages, one for each person who is still in your list.\n",
    "print(f\"Unfortunately, {guest_list[1]} can't make it.\")\n",
    "guest_list[1] = \"Nikola Tesla\"\n",
    "print(f\"Dear {guest_list[0]}, you are still invited to dinner.\")\n",
    "print(f\"Dear {guest_list[1]}, you are invited to dinner.\")\n",
    "print(f\"Dear {guest_list[2]}, you are still invited to dinner.\")\n"
   ]
  },
  {
   "cell_type": "code",
   "execution_count": null,
   "metadata": {},
   "outputs": [],
   "source": [
    "# Exercise 3-6: More Guests\n",
    "# Task: Start with your program from Exercise 3-4 or 3-5. Add a print() call to the end of your program, informing people that you found a bigger table. Use insert() to add one new guest to the beginning of your list. Use insert() to add one new guest to the middle of your list. Use append() to add one new guest to the end of your list. Print a new set of invitation messages, one for each person in your list.\n",
    "print(\"Great news! We found a bigger table, so more guests can be invited!\")\n",
    "guest_list.insert(0, \"Galileo Galilei\")\n",
    "guest_list.insert(2, \"Leonardo da Vinci\")\n",
    "guest_list.append(\"Stephen Hawking\")\n",
    "print(f\"Dear {guest_list[0]}, you are invited to dinner.\")\n",
    "print(f\"Dear {guest_list[1]}, you are still invited to dinner.\")\n",
    "print(f\"Dear {guest_list[2]}, you are invited to dinner.\")\n",
    "print(f\"Dear {guest_list[3]}, you are still invited to dinner.\")\n",
    "print(f\"Dear {guest_list[4]}, you are still invited to dinner.\")\n",
    "print(f\"Dear {guest_list[5]}, you are invited to dinner.\")\n"
   ]
  },
  {
   "cell_type": "code",
   "execution_count": null,
   "metadata": {},
   "outputs": [],
   "source": [
    "# Exercise 3-7: Shrinking Guest List\n",
    "# Task: Start with your program from Exercise 3-6. Add a new line that prints a message saying that you can invite only two people for dinner. Use pop() to remove guests from your list one at a time until only two names remain in your list. Each time you pop a name from your list, print a message to that person letting them know you’re sorry you can’t invite them to dinner. Print a message to each of the two people still on your list, letting them know they’re still invited. Use del to remove the last two names from your list.\n",
    "print(\"Sorry, but we can only invite two people for dinner.\")\n",
    "uninvited_guest = guest_list.pop()\n",
    "print(f\"Sorry {uninvited_guest}, we can't invite you to dinner.\")\n",
    "uninvited_guest = guest_list.pop()\n",
    "print(f\"Sorry {uninvited_guest}, we can't invite you to dinner.\")\n",
    "uninvited_guest = guest_list.pop()\n",
    "print(f\"Sorry {uninvited_guest}, we can't invite you to dinner.\")\n",
    "uninvited_guest = guest_list.pop()\n",
    "print(f\"Sorry {uninvited_guest}, we can't invite you to dinner.\")\n",
    "print(f\"{guest_list[0]} and {guest_list[1]}, you are still invited.\")\n",
    "del guest_list[1]\n",
    "del guest_list[0]\n",
    "print(\"Final guest list:\", guest_list)\n"
   ]
  },
  {
   "cell_type": "code",
   "execution_count": null,
   "metadata": {},
   "outputs": [],
   "source": [
    "# Exercise 3-8: Seeing the World\n",
    "# Task: Think of at least five places in the world you’d like to visit. Store the locations in a list. Make sure the list is not in alphabetical order. Print your list in its original order. Use sorted() to print your list in alphabetical order without modifying the actual list. Show that your list is still in its original order by printing it. Use sorted() to print your list in reverse-alphabetical order without changing the order of the original list. Show that your list is still in its original order by printing it again. Use reverse() to reverse the order of your list, and then print the list. Use reverse() again to return the list to its original order, and then print it. Use sort() to sort the list in alphabetical order, and then print it. Use sort() again to sort the list in reverse alphabetical order, and then print it.\n",
    "places_to_visit = [\"Tokyo\", \"New York\", \"Paris\", \"Sydney\", \"Cape Town\"]\n",
    "print(places_to_visit)\n",
    "print(sorted(places_to_visit))\n",
    "print(places_to_visit)\n",
    "print(sorted(places_to_visit, reverse=True))\n",
    "print(places_to_visit)\n",
    "places_to_visit.reverse()\n",
    "print(places_to_visit)\n",
    "places_to_visit.reverse()\n",
    "print(places_to_visit)\n",
    "places_to_visit.sort()\n",
    "print(places_to_visit)\n",
    "places_to_visit.sort(reverse=True)\n",
    "print(places_to_visit)\n"
   ]
  },
  {
   "cell_type": "code",
   "execution_count": null,
   "metadata": {},
   "outputs": [],
   "source": [
    "# Exercise 3-9: Every Function\n",
    "# Task: Write a program that creates a list containing items (like mountains, rivers, countries, etc.) and then uses each function introduced in this chapter at least once.\n",
    "mountains = [\"Everest\", \"K2\", \"Kilimanjaro\", \"Denali\"]\n",
    "\n",
    "# Using append()\n",
    "mountains.append(\"Aconcagua\")\n",
    "print(mountains)\n",
    "\n",
    "# Using insert()\n",
    "mountains.insert(2, \"Elbrus\")\n",
    "print(mountains)\n",
    "\n",
    "# Using pop()\n",
    "removed_mountain = mountains.pop()\n",
    "print(f\"Removed mountain: {removed_mountain}\")\n",
    "print(mountains)\n",
    "\n",
    "# Using del\n",
    "del mountains[1]\n",
    "print(mountains)\n",
    "\n",
    "# Using sort()\n",
    "mountains.sort()\n",
    "print(mountains)\n",
    "\n",
    "# Using reverse()\n",
    "mountains.reverse()\n",
    "print(mountains)\n",
    "\n",
    "# Using sorted()\n",
    "print(sorted(mountains))\n"
   ]
  },
  {
   "cell_type": "code",
   "execution_count": null,
   "metadata": {},
   "outputs": [],
   "source": [
    "# Exercise 3-10: Intentional Error\n",
    "# Task: If you haven’t received an index error in one of your programs yet, try to make one happen. Change an index in one of your programs to produce an index error. Make sure you correct the error before closing the program.\n",
    "print(mountains[10])  # Intentional index error\n"
   ]
  }
 ],
 "metadata": {
  "kernelspec": {
   "display_name": "Python 3",
   "language": "python",
   "name": "python3"
  },
  "language_info": {
   "codemirror_mode": {
    "name": "ipython",
    "version": 3
   },
   "file_extension": ".py",
   "mimetype": "text/x-python",
   "name": "python",
   "nbconvert_exporter": "python",
   "pygments_lexer": "ipython3",
   "version": "3.12.4"
  }
 },
 "nbformat": 4,
 "nbformat_minor": 2
}
