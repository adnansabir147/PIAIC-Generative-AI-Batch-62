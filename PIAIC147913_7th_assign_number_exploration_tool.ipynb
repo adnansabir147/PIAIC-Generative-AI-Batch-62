{
 "cells": [
  {
   "cell_type": "code",
   "execution_count": 2,
   "metadata": {},
   "outputs": [],
   "source": [
    "# Step 1: Greeting and Gathering User Information\n",
    "name = input(\"Enter your name: \")\n",
    "\n",
    "# Asking for three favorite numbers\n",
    "num1 = int(input(\"Enter your first favorite number: \"))\n",
    "num2 = int(input(\"Enter your second favorite number: \"))\n",
    "num3 = int(input(\"Enter your third favorite number: \"))\n",
    "\n",
    "# Storing the numbers in a list\n",
    "favorite_numbers = [num1, num2, num3]\n"
   ]
  },
  {
   "cell_type": "code",
   "execution_count": 7,
   "metadata": {},
   "outputs": [],
   "source": [
    "# Step 2: Checking if the numbers are even or odd\n",
    "even_odd_list = []\n",
    "for number in favorite_numbers:\n",
    "    if number % 2 == 0:\n",
    "        even_odd_list.append((number, \"even\"))\n",
    "    else:\n",
    "        even_odd_list.append((number, \"odd\"))\n"
   ]
  },
  {
   "cell_type": "code",
   "execution_count": 9,
   "metadata": {},
   "outputs": [
    {
     "name": "stdout",
     "output_type": "stream",
     "text": [
      "\n",
      "Hello, Adnan Sabir(PIAIC147913)! Let's explore your favorite numbers:\n",
      "The number 4 is even.\n",
      "The number 6 is even.\n",
      "The number 9 is odd.\n"
     ]
    }
   ],
   "source": [
    "# Step 3: Greeting the user and providing feedback on the numbers\n",
    "print(f\"\\nHello, {name}! Let's explore your favorite numbers:\")\n",
    "\n",
    "# Displaying if the numbers are even or odd\n",
    "for number, even_or_odd in even_odd_list:\n",
    "    print(f\"The number {number} is {even_or_odd}.\")"
   ]
  },
  {
   "cell_type": "code",
   "execution_count": 8,
   "metadata": {},
   "outputs": [
    {
     "name": "stdout",
     "output_type": "stream",
     "text": [
      "\n",
      "Here's what your numbers and their squares look like:\n",
      "The number 4 and its square: (4, 16)\n",
      "The number 6 and its square: (6, 36)\n",
      "The number 9 and its square: (9, 81)\n"
     ]
    }
   ],
   "source": [
    "# Step 4: Creating tuples of numbers and their squares\n",
    "print(\"\\nHere's what your numbers and their squares look like:\")\n",
    "for number in favorite_numbers:\n",
    "    square_tuple = (number, number ** 2)\n",
    "    print(f\"The number {number} and its square: {square_tuple}\")"
   ]
  },
  {
   "cell_type": "code",
   "execution_count": 5,
   "metadata": {},
   "outputs": [
    {
     "name": "stdout",
     "output_type": "stream",
     "text": [
      "\n",
      "Amazing! The sum of your favorite numbers is: 19\n"
     ]
    }
   ],
   "source": [
    "# Step 5: Calculating and displaying the sum of the numbers\n",
    "total_sum = sum(favorite_numbers)\n",
    "print(f\"\\nAmazing! The sum of your favorite numbers is: {total_sum}\")\n"
   ]
  },
  {
   "cell_type": "code",
   "execution_count": 6,
   "metadata": {},
   "outputs": [
    {
     "name": "stdout",
     "output_type": "stream",
     "text": [
      "Wow, 19 is a prime number!\n"
     ]
    }
   ],
   "source": [
    "# Step 6: Checking if the sum is a prime number\n",
    "def is_prime(n):\n",
    "    if n <= 1:\n",
    "        return False\n",
    "    for i in range(2, int(n**0.5) + 1):\n",
    "        if n % i == 0:\n",
    "            return False\n",
    "    return True\n",
    "\n",
    "# Providing feedback on whether the sum is a prime number\n",
    "if is_prime(total_sum):\n",
    "    print(f\"Wow, {total_sum} is a prime number!\")\n",
    "else:\n",
    "    print(f\"{total_sum} is not a prime number, but it's still a great number!\")\n"
   ]
  }
 ],
 "metadata": {
  "kernelspec": {
   "display_name": "Python 3",
   "language": "python",
   "name": "python3"
  },
  "language_info": {
   "codemirror_mode": {
    "name": "ipython",
    "version": 3
   },
   "file_extension": ".py",
   "mimetype": "text/x-python",
   "name": "python",
   "nbconvert_exporter": "python",
   "pygments_lexer": "ipython3",
   "version": "3.12.4"
  }
 },
 "nbformat": 4,
 "nbformat_minor": 2
}
